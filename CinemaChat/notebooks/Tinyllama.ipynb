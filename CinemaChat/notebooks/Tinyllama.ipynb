{
  "cells": [
    {
      "cell_type": "code",
      "execution_count": 1,
      "metadata": {
        "id": "Nbp7yh9env6b"
      },
      "outputs": [],
      "source": [
        "import os\n",
        "import imdb\n",
        "import requests\n",
        "import pandas as pd\n",
        "from langchain.document_loaders import TextLoader\n",
        "from langchain.text_splitter import RecursiveCharacterTextSplitter\n",
        "from langchain.embeddings import HuggingFaceHubEmbeddings\n",
        "from langchain.vectorstores import FAISS\n",
        "from langchain.docstore.document import Document\n",
        "from langchain_community.llms import HuggingFaceHub\n",
        "from langchain.chains import LLMChain\n",
        "from langchain.prompts import PromptTemplate"
      ]
    },
    {
      "cell_type": "code",
      "execution_count": 2,
      "metadata": {
        "id": "xVrTPhVLn2mD"
      },
      "outputs": [],
      "source": [
        "movie = \"12thFail\"\n",
        "ia = imdb.IMDb()\n",
        "url = ia.get_imdbURL(ia.search_movie(movie)[0]) + 'reviews'\n",
        "response = requests.get(url)"
      ]
    },
    {
      "cell_type": "code",
      "execution_count": 3,
      "metadata": {
        "id": "oyFhA8uen3OB"
      },
      "outputs": [],
      "source": [
        "def find_lines_with_substring(corpus, substring='<div class=\"text show-more__control\">'):\n",
        "    lines_with_substring = [line for line in corpus.split('\\n') if substring in line]\n",
        "    return lines_with_substring\n",
        "\n",
        "def preprocess(review):\n",
        "  review = ' '.join(review.split())\n",
        "  review = review.replace('<div class=\"text show-more__control\">',\"\").replace(\"<br/><br/>\",\"\\n\").replace(\"</div>\",\"\").replace(\"&#39;\",\"'\")\n",
        "  return review\n",
        "\n",
        "reviews = list()\n",
        "for review in find_lines_with_substring(response.text):\n",
        "  reviews.append(preprocess(review))\n",
        "\n",
        "if len(reviews)==0:\n",
        "  raise Exception(\"Incorrect link\")"
      ]
    },
    {
      "cell_type": "code",
      "execution_count": 4,
      "metadata": {
        "id": "8IYvEKYhcAZN"
      },
      "outputs": [],
      "source": [
        "text_splitter = RecursiveCharacterTextSplitter(chunk_size=300,chunk_overlap=50)\n",
        "pages = [Document(page_content=r, metadata={\"source\":\"local\"}) for r in reviews]\n",
        "splits = text_splitter.split_documents(pages)\n",
        "embedding = HuggingFaceHubEmbeddings(huggingfacehub_api_token=os.environ['HUGGINGFACEHUB_API_KEY'])\n",
        "vecterstores = FAISS.from_documents(splits,embedding)\n",
        "ret = vecterstores.as_retriever()"
      ]
    },
    {
      "cell_type": "code",
      "execution_count": 5,
      "metadata": {
        "id": "r4XL0WWDn-Pz"
      },
      "outputs": [],
      "source": [
        "template = \"\"\"\n",
        "<|system|>\n",
        "You are personal assistant whose job is to provide answer to the user's query based\n",
        "on the context for the movie {movie}. The answer should be in your own words and be in one sentence.\n",
        "If you don't know the answer please simply say I don't know.\n",
        "Context:\n",
        "{context}</s>\n",
        "<|user|>\n",
        "{question}</s>\n",
        "<|assistant|>\n",
        "\"\"\"\n",
        "\n",
        "prompt = PromptTemplate(template=template, input_variables=[\"context\",\"question\",\"movie\"])\n",
        "llm = HuggingFaceHub(\n",
        "    repo_id=\"TinyLlama/TinyLlama-1.1B-Chat-v1.0\", model_kwargs={\"temperature\": 1.0},\n",
        "    huggingfacehub_api_token=os.environ['HUGGINGFACEHUB_API_KEY']\n",
        "    )\n",
        "llm_chain = LLMChain(prompt=prompt, llm=llm)"
      ]
    },
    {
      "cell_type": "code",
      "execution_count": 6,
      "metadata": {
        "colab": {
          "base_uri": "https://localhost:8080/"
        },
        "id": "xKAw94ipl07R",
        "outputId": "57be45ca-81ec-4191-c33f-635d010081e2"
      },
      "outputs": [
        {
          "name": "stdout",
          "output_type": "stream",
          "text": [
            "The movie 12thFail is a powerful and emotional cinematic experience that explores the themes of bribery, corruption, politics, hardwork, grit, love, tenacity, and being a good Samaritan. The film serves as a reminder that perseverance and resilience can lead to extraordinary achievements, and the level of craftsmanship displayed in the production is remarkable. The plot unfolds with a perfect blend of suspense and emotion, creating a narrative that is both inspiring and thought-provoking. The movie is a powerful reminder that our dreams can be within reach if we are willing to chase them with unwavering determination.\n"
          ]
        }
      ],
      "source": [
        "question = \"Summarize the movie\"\n",
        "rel_doc = ret.get_relevant_documents(question)\n",
        "context = \"\"\n",
        "for doc in rel_doc:\n",
        "  context += doc.page_content + \"\\n\"\n",
        "\n",
        "result = llm_chain.invoke({'question':question, 'context':context, 'movie':movie})\n",
        "print(result['text'][result['text'].find(\"<|assistant|>\")+len(\"<|assistant|>\\n\"):])"
      ]
    }
  ],
  "metadata": {
    "colab": {
      "gpuType": "T4",
      "provenance": []
    },
    "kernelspec": {
      "display_name": "Python 3",
      "name": "python3"
    },
    "language_info": {
      "codemirror_mode": {
        "name": "ipython",
        "version": 3
      },
      "file_extension": ".py",
      "mimetype": "text/x-python",
      "name": "python",
      "nbconvert_exporter": "python",
      "pygments_lexer": "ipython3",
      "version": "3.10.11"
    }
  },
  "nbformat": 4,
  "nbformat_minor": 0
}
